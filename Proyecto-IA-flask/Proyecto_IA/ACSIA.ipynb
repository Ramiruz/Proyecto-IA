{
 "cells": [
  {
   "cell_type": "code",
   "execution_count": null,
   "metadata": {
    "vscode": {
     "languageId": "plaintext"
    }
   },
   "outputs": [],
   "source": [
    "# Importar las bibliotecas de Assemblyai y el modelo summarizer de BERT\n",
    "import assemblyai as aai\n",
    "from summarizer import Summarizer"
   ]
  },
  {
   "cell_type": "code",
   "execution_count": null,
   "metadata": {
    "vscode": {
     "languageId": "plaintext"
    }
   },
   "outputs": [],
   "source": [
    "# Función para realizar la transcripcion de audio utilizando AssemblyAI\n",
    "def transcribe_audio(api_key, audio_path):\n",
    "\n",
    "    aai.settings.api_key = api_key      # Establecer la clave API de AssemblyAI\n",
    "    \n",
    "    transcriber = aai.Transcriber()     # Inicializar el transcriptor de AssemblyAI\n",
    "    \n",
    "    transcript = transcriber.transcribe(audio_path)     # Transcribir el archivo de audio\n",
    "    \n",
    "    # Se obtiene el texto del audio por partes y se unen en un solo texto transcrito\n",
    "    paragraphs = transcript.get_paragraphs()\n",
    "    text_sentences = [paragraph.text for paragraph in paragraphs]\n",
    "    transcribed_text = ' '.join(text_sentences)\n",
    "    \n",
    "    return transcribed_text"
   ]
  },
  {
   "cell_type": "code",
   "execution_count": null,
   "metadata": {
    "vscode": {
     "languageId": "plaintext"
    }
   },
   "outputs": [],
   "source": [
    "def main():\n",
    "\n",
    "    # Clave API de AssemblyAI y ruta del archivo de audio seleccionado\n",
    "    api_key_assemblyai = \"46f3fc0a6e364888acf89978f15a5d24\"\n",
    "    audio_path = \"Audio001.mp3\"  \n",
    "\n",
    "    # Transcribir audio utilizando AssemblyAI\n",
    "    transcribed_text = transcribe_audio(api_key_assemblyai, audio_path)\n",
    "    print(\"Audio transcrito:\\n\", transcribed_text)\n",
    "\n",
    "    # Inicializar el modelo de resumen BERT\n",
    "    bert_model = Summarizer()\n",
    "    \n",
    "    # Generar un resumen utilizando el modelo de resumen BERT\n",
    "    bert_summary = ''.join(bert_model(transcribed_text, min_length=60))\n",
    "    print(\"Resumen del audio:\\n\", bert_summary) \n",
    "\n",
    "\n",
    "if __name__ == \"__main__\":\n",
    "    main()"
   ]
  }
 ],
 "metadata": {
  "kernelspec": {
   "display_name": "Python 3",
   "language": "python",
   "name": "python3"
  },
  "language_info": {
   "codemirror_mode": {
    "name": "ipython",
    "version": 3
   },
   "file_extension": ".py",
   "mimetype": "text/x-python",
   "name": "python",
   "nbconvert_exporter": "python",
   "pygments_lexer": "ipython3",
   "version": "3.11.6"
  }
 },
 "nbformat": 4,
 "nbformat_minor": 2
}
