{
 "cells": [
  {
   "cell_type": "code",
   "execution_count": 1,
   "metadata": {},
   "outputs": [
    {
     "name": "stderr",
     "output_type": "stream",
     "text": [
      "C:\\Users\\andre\\AppData\\Local\\Packages\\PythonSoftwareFoundation.Python.3.11_qbz5n2kfra8p0\\LocalCache\\local-packages\\Python311\\site-packages\\tqdm\\auto.py:21: TqdmWarning: IProgress not found. Please update jupyter and ipywidgets. See https://ipywidgets.readthedocs.io/en/stable/user_install.html\n",
      "  from .autonotebook import tqdm as notebook_tqdm\n"
     ]
    }
   ],
   "source": [
    "# Importar las bibliotecas de Assemblyai y el modelo summarizer de BERT\n",
    "import assemblyai as aai\n",
    "from summarizer import Summarizer"
   ]
  },
  {
   "cell_type": "code",
   "execution_count": 2,
   "metadata": {},
   "outputs": [],
   "source": [
    "# Función para realizar la transcripcion de audio utilizando AssemblyAI\n",
    "def transcribe_audio(api_key, audio_path):\n",
    "\n",
    "    aai.settings.api_key = api_key      # Establecer la clave API de AssemblyAI\n",
    "    \n",
    "    transcriber = aai.Transcriber()     # Inicializar el transcriptor de AssemblyAI\n",
    "    \n",
    "    transcript = transcriber.transcribe(audio_path)     # Transcribir el archivo de audio\n",
    "    \n",
    "    # Se obtiene el texto del audio por partes y se unen en un solo texto transcrito\n",
    "    paragraphs = transcript.get_paragraphs()\n",
    "    text_sentences = [paragraph.text for paragraph in paragraphs]\n",
    "    transcribed_text = ' '.join(text_sentences)\n",
    "    \n",
    "    return transcribed_text"
   ]
  },
  {
   "cell_type": "code",
   "execution_count": 3,
   "metadata": {},
   "outputs": [
    {
     "name": "stdout",
     "output_type": "stream",
     "text": [
      "Audio transcrito:\n",
      " Hi everyone, this is Patrick from AssemblyAI, and in this video, we're going to take a look at our Python SDK. So I show you how you can transcribe and analyze audio data with just a few lines of code. So let's get started. So first let's set up the Python SDK. And you can find this on GitHub by the way. And to install this, you can simply say pip install AssemblyAI and now let's jump to the code. And the first thing we want to do is import. And then you want to set your API key. And you can do this by calling AAI Settings API key. And here set your key. You can get one for free on our website. The link will be in the description below. Or as a second way, you could also set this as a environment variable that has to be called AssemblyAI API key. For example, if I open my terminal, I could hear export AssemblyAI API key and set this as key and then you don't need this line. But here we want to do it with the first option. Next, let's learn how we can transcribe files with the SDK. So for this we create a transcriber instance and then we can call transcriber transcribe. And this works with either a URL to a file, or we can also simply pass in a local file. So here I prepared a local MP3 file and now this will start the transcription and this function will block until the transcription is completed. And then finally we can simply call Transcript text to see the transcribe text. So let's comment this one out and use the local file and let's run this and see if it works. And as you can see here we get the transcription. Now, this transcript object is of the class Transcriber transcript and you can do many more things with this. For example, you could check the audio duration, or you can get the single sentences by calling Transcript Get Sentences and then we can iterate over them and print the text again. And as you can see here we get the single sentences, or instead of the sentences, you can also call Transcript Get Paragraphs and then iterate over them. And here we get the single paragraphs. You can also do a word search. For example, you can call Transcript Word Search and here as a list, you can pass in all the words you want to search for. And then you get the matches back so we can iterate over them. And then for example, we can print Found Match text and then Match Count. And then you can also get the timestamps for each word and also the indices. So let's run this and see if it works. And as you can see, it Found President two times. And here we get the corresponding timestamp and the indices and it also found people one time and here is the corresponding timestamp. Now let's learn how we can transcribe files asynchronous. So as I've mentioned, the transcriber transcribe function will block until the result is finished. So we can also call transcribeasync. And now this will return a future object from the Async I O library. So let's run this and this will immediately return and then we can do some other stuff. So as you can see, this immediately returns and we can see the state is running. And then at a later time, for example, we can check if the future is done and then we can get the transcript by calling future result. And now this is again the same transcript object that we've seen before. For example, here we can now print transcript text, and by now hopefully the state is already completed. So now here we should see the text and as you can see this worked. So this is how you can transcribe files asynchronously now let's learn how you can configure transcription parameters and also trigger different audio intelligence features. So for this you can set up a transcription config and here you can set different parameters. For example, you can set punctuate should be false and formatting should be false. And then you pass this config when you set up your transcriber object. So this is the first way how you could do it. You can also directly call this on the transcribe function. Now we do it with the global configuration. And then again you call transcriber transcribe and now we print the transcription text and let's run this and wait until this is done. And here again it prints the transcript, but this time without punctuation and formatting. You can also use the transcription config to set up different audio intelligence features. For example, let's use the summarization feature. So when we set up the transcription config here we set summarization equals true. And then you could also optionally set the summary model and the summary type. And here we set this to informative and then to bullets. So this is the second way how we can use it. We can directly call this on the transcribe function and then it will overwrite the global config. And then since we set summarization equals true, we can then access transcript summary. So let's run this and as you can see, now we get a summary with two bullet points. So this was a short guide how you can get started with the Python SDK. I recommend to check out the documentation to see what else you can do with it. And I hope you enjoyed this video. So if so then please leave us a like and consider subscribing to our channel. And then I hope to see you next time. Bye.\n"
     ]
    },
    {
     "name": "stderr",
     "output_type": "stream",
     "text": [
      "C:\\Users\\andre\\AppData\\Local\\Packages\\PythonSoftwareFoundation.Python.3.11_qbz5n2kfra8p0\\LocalCache\\local-packages\\Python311\\site-packages\\sklearn\\cluster\\_kmeans.py:1416: FutureWarning: The default value of `n_init` will change from 10 to 'auto' in 1.4. Set the value of `n_init` explicitly to suppress the warning\n",
      "  super()._check_params_vs_input(X, default_n_init=10)\n"
     ]
    },
    {
     "name": "stdout",
     "output_type": "stream",
     "text": [
      "Resumen del audio:\n",
      " Hi everyone, this is Patrick from AssemblyAI, and in this video, we're going to take a look at our Python SDK. So I show you how you can transcribe and analyze audio data with just a few lines of code. And to install this, you can simply say pip install AssemblyAI and now let's jump to the code. And this works with either a URL to a file, or we can also simply pass in a local file. And now this is again the same transcript object that we've seen before. And then you pass this config when you set up your transcriber object. And then again you call transcriber transcribe and now we print the transcription text and let's run this and wait until this is done. So when we set up the transcription config here we set summarization equals true. I recommend to check out the documentation to see what else you can do with it.\n"
     ]
    }
   ],
   "source": [
    "def main():\n",
    "\n",
    "    # Clave API de AssemblyAI y ruta del archivo de audio seleccionado\n",
    "    api_key_assemblyai = \"46f3fc0a6e364888acf89978f15a5d24\"\n",
    "    audio_path = \"Audio001.mp3\"  \n",
    "\n",
    "    # Transcribir audio utilizando AssemblyAI\n",
    "    transcribed_text = transcribe_audio(api_key_assemblyai, audio_path)\n",
    "    print(\"Audio transcrito:\\n\", transcribed_text)\n",
    "\n",
    "    # Inicializar el modelo de resumen BERT\n",
    "    bert_model = Summarizer()\n",
    "    \n",
    "    # Generar un resumen utilizando el modelo de resumen BERT\n",
    "    bert_summary = ''.join(bert_model(transcribed_text, min_length=60))\n",
    "    print(\"Resumen del audio:\\n\", bert_summary) \n",
    "\n",
    "\n",
    "if __name__ == \"__main__\":\n",
    "    main()"
   ]
  }
 ],
 "metadata": {
  "kernelspec": {
   "display_name": "Python 3",
   "language": "python",
   "name": "python3"
  },
  "language_info": {
   "codemirror_mode": {
    "name": "ipython",
    "version": 3
   },
   "file_extension": ".py",
   "mimetype": "text/x-python",
   "name": "python",
   "nbconvert_exporter": "python",
   "pygments_lexer": "ipython3",
   "version": "3.11.6"
  }
 },
 "nbformat": 4,
 "nbformat_minor": 2
}
